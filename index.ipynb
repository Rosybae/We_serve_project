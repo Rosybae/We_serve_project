{
 "cells": [
  {
   "cell_type": "code",
   "execution_count": 2,
   "metadata": {},
   "outputs": [],
   "source": [
    "import pandas as pd"
   ]
  },
  {
   "cell_type": "markdown",
   "metadata": {},
   "source": [
    "## Extraction"
   ]
  },
  {
   "cell_type": "code",
   "execution_count": 3,
   "metadata": {},
   "outputs": [],
   "source": [
    "df = pd.read_csv('call details.csv')"
   ]
  },
  {
   "cell_type": "code",
   "execution_count": 4,
   "metadata": {},
   "outputs": [],
   "source": [
    "df2 = pd.read_csv('call log.csv')"
   ]
  },
  {
   "cell_type": "markdown",
   "metadata": {},
   "source": [
    "## Understanding the dataset"
   ]
  },
  {
   "cell_type": "code",
   "execution_count": 5,
   "metadata": {},
   "outputs": [
    {
     "name": "stdout",
     "output_type": "stream",
     "text": [
      "<class 'pandas.core.frame.DataFrame'>\n",
      "RangeIndex: 600 entries, 0 to 599\n",
      "Data columns (total 5 columns):\n",
      " #   Column                 Non-Null Count  Dtype \n",
      "---  ------                 --------------  ----- \n",
      " 0   callID                 600 non-null    object\n",
      " 1   callDurationInSeconds  600 non-null    int64 \n",
      " 2   agentsGradeLevel       600 non-null    object\n",
      " 3   callType               600 non-null    object\n",
      " 4   callEndedByAgent       600 non-null    bool  \n",
      "dtypes: bool(1), int64(1), object(3)\n",
      "memory usage: 19.5+ KB\n"
     ]
    }
   ],
   "source": [
    "df.info()\n"
   ]
  },
  {
   "cell_type": "code",
   "execution_count": 6,
   "metadata": {},
   "outputs": [
    {
     "name": "stdout",
     "output_type": "stream",
     "text": [
      "<class 'pandas.core.frame.DataFrame'>\n",
      "RangeIndex: 600 entries, 0 to 599\n",
      "Data columns (total 7 columns):\n",
      " #   Column                     Non-Null Count  Dtype  \n",
      "---  ------                     --------------  -----  \n",
      " 0   id                         600 non-null    int64  \n",
      " 1   callerID                   600 non-null    object \n",
      " 2   agentID                    600 non-null    int64  \n",
      " 3   complaintTopic             600 non-null    object \n",
      " 4   assignedTo                 372 non-null    float64\n",
      " 5   status                     600 non-null    object \n",
      " 6   resolutionDurationInHours  187 non-null    float64\n",
      "dtypes: float64(2), int64(2), object(3)\n",
      "memory usage: 32.9+ KB\n"
     ]
    }
   ],
   "source": [
    "df2.info()"
   ]
  },
  {
   "cell_type": "markdown",
   "metadata": {},
   "source": [
    "--change 'assignedto' from float to integer and fill missing values\n",
    "--clean 'status' column entries\n",
    "--fix 'agentsgradelevel' column\n",
    "--clean 'callID' column\n",
    "--fill missing 'resolutiondurationinhours' with not provided\n",
    "--clean 'inbound' column(change to a consistent format)\n",
    "--rename all columns to the same format"
   ]
  },
  {
   "cell_type": "code",
   "execution_count": 7,
   "metadata": {},
   "outputs": [
    {
     "data": {
      "text/html": [
       "<div>\n",
       "<style scoped>\n",
       "    .dataframe tbody tr th:only-of-type {\n",
       "        vertical-align: middle;\n",
       "    }\n",
       "\n",
       "    .dataframe tbody tr th {\n",
       "        vertical-align: top;\n",
       "    }\n",
       "\n",
       "    .dataframe thead th {\n",
       "        text-align: right;\n",
       "    }\n",
       "</style>\n",
       "<table border=\"1\" class=\"dataframe\">\n",
       "  <thead>\n",
       "    <tr style=\"text-align: right;\">\n",
       "      <th></th>\n",
       "      <th>callID</th>\n",
       "      <th>callDurationInSeconds</th>\n",
       "      <th>agentsGradeLevel</th>\n",
       "      <th>callType</th>\n",
       "      <th>callEndedByAgent</th>\n",
       "    </tr>\n",
       "  </thead>\n",
       "  <tbody>\n",
       "    <tr>\n",
       "      <th>0</th>\n",
       "      <td>ageentsGradeLevel</td>\n",
       "      <td>97</td>\n",
       "      <td>A</td>\n",
       "      <td>Inbound</td>\n",
       "      <td>False</td>\n",
       "    </tr>\n",
       "    <tr>\n",
       "      <th>1</th>\n",
       "      <td>2</td>\n",
       "      <td>64</td>\n",
       "      <td>E</td>\n",
       "      <td>in-bound</td>\n",
       "      <td>True</td>\n",
       "    </tr>\n",
       "    <tr>\n",
       "      <th>2</th>\n",
       "      <td>3</td>\n",
       "      <td>100</td>\n",
       "      <td>C</td>\n",
       "      <td>in-bound</td>\n",
       "      <td>False</td>\n",
       "    </tr>\n",
       "    <tr>\n",
       "      <th>3</th>\n",
       "      <td>4</td>\n",
       "      <td>69</td>\n",
       "      <td>D</td>\n",
       "      <td>Outbound</td>\n",
       "      <td>True</td>\n",
       "    </tr>\n",
       "    <tr>\n",
       "      <th>4</th>\n",
       "      <td>5</td>\n",
       "      <td>96</td>\n",
       "      <td>D</td>\n",
       "      <td>Inbound</td>\n",
       "      <td>True</td>\n",
       "    </tr>\n",
       "    <tr>\n",
       "      <th>...</th>\n",
       "      <td>...</td>\n",
       "      <td>...</td>\n",
       "      <td>...</td>\n",
       "      <td>...</td>\n",
       "      <td>...</td>\n",
       "    </tr>\n",
       "    <tr>\n",
       "      <th>595</th>\n",
       "      <td>596</td>\n",
       "      <td>147</td>\n",
       "      <td>E</td>\n",
       "      <td>Outbound</td>\n",
       "      <td>True</td>\n",
       "    </tr>\n",
       "    <tr>\n",
       "      <th>596</th>\n",
       "      <td>597</td>\n",
       "      <td>90</td>\n",
       "      <td>A</td>\n",
       "      <td>in-bound</td>\n",
       "      <td>True</td>\n",
       "    </tr>\n",
       "    <tr>\n",
       "      <th>597</th>\n",
       "      <td>598</td>\n",
       "      <td>89</td>\n",
       "      <td>F</td>\n",
       "      <td>Outbound</td>\n",
       "      <td>True</td>\n",
       "    </tr>\n",
       "    <tr>\n",
       "      <th>598</th>\n",
       "      <td>599</td>\n",
       "      <td>146</td>\n",
       "      <td>D</td>\n",
       "      <td>Inbound</td>\n",
       "      <td>False</td>\n",
       "    </tr>\n",
       "    <tr>\n",
       "      <th>599</th>\n",
       "      <td>600</td>\n",
       "      <td>103</td>\n",
       "      <td>C</td>\n",
       "      <td>Outbound</td>\n",
       "      <td>False</td>\n",
       "    </tr>\n",
       "  </tbody>\n",
       "</table>\n",
       "<p>600 rows × 5 columns</p>\n",
       "</div>"
      ],
      "text/plain": [
       "                callID  callDurationInSeconds agentsGradeLevel  callType  \\\n",
       "0    ageentsGradeLevel                     97                A   Inbound   \n",
       "1                    2                     64                E  in-bound   \n",
       "2                    3                    100                C  in-bound   \n",
       "3                    4                     69                D  Outbound   \n",
       "4                    5                     96                D   Inbound   \n",
       "..                 ...                    ...              ...       ...   \n",
       "595                596                    147                E  Outbound   \n",
       "596                597                     90                A  in-bound   \n",
       "597                598                     89                F  Outbound   \n",
       "598                599                    146                D   Inbound   \n",
       "599                600                    103                C  Outbound   \n",
       "\n",
       "     callEndedByAgent  \n",
       "0               False  \n",
       "1                True  \n",
       "2               False  \n",
       "3                True  \n",
       "4                True  \n",
       "..                ...  \n",
       "595              True  \n",
       "596              True  \n",
       "597              True  \n",
       "598             False  \n",
       "599             False  \n",
       "\n",
       "[600 rows x 5 columns]"
      ]
     },
     "execution_count": 7,
     "metadata": {},
     "output_type": "execute_result"
    }
   ],
   "source": [
    "df"
   ]
  },
  {
   "cell_type": "code",
   "execution_count": 8,
   "metadata": {},
   "outputs": [
    {
     "data": {
      "text/html": [
       "<div>\n",
       "<style scoped>\n",
       "    .dataframe tbody tr th:only-of-type {\n",
       "        vertical-align: middle;\n",
       "    }\n",
       "\n",
       "    .dataframe tbody tr th {\n",
       "        vertical-align: top;\n",
       "    }\n",
       "\n",
       "    .dataframe thead th {\n",
       "        text-align: right;\n",
       "    }\n",
       "</style>\n",
       "<table border=\"1\" class=\"dataframe\">\n",
       "  <thead>\n",
       "    <tr style=\"text-align: right;\">\n",
       "      <th></th>\n",
       "      <th>id</th>\n",
       "      <th>callerID</th>\n",
       "      <th>agentID</th>\n",
       "      <th>complaintTopic</th>\n",
       "      <th>assignedTo</th>\n",
       "      <th>status</th>\n",
       "      <th>resolutionDurationInHours</th>\n",
       "    </tr>\n",
       "  </thead>\n",
       "  <tbody>\n",
       "    <tr>\n",
       "      <th>0</th>\n",
       "      <td>1</td>\n",
       "      <td>CALLER_1</td>\n",
       "      <td>163</td>\n",
       "      <td>Billing discrepancy</td>\n",
       "      <td>122.0</td>\n",
       "      <td>CLOSED</td>\n",
       "      <td>33.0</td>\n",
       "    </tr>\n",
       "    <tr>\n",
       "      <th>1</th>\n",
       "      <td>2</td>\n",
       "      <td>CALLER_2</td>\n",
       "      <td>133</td>\n",
       "      <td>Difficulty reaching customer support</td>\n",
       "      <td>NaN</td>\n",
       "      <td>new</td>\n",
       "      <td>NaN</td>\n",
       "    </tr>\n",
       "    <tr>\n",
       "      <th>2</th>\n",
       "      <td>3</td>\n",
       "      <td>CALLER_3</td>\n",
       "      <td>153</td>\n",
       "      <td>Wrong item received</td>\n",
       "      <td>122.0</td>\n",
       "      <td>resolved</td>\n",
       "      <td>NaN</td>\n",
       "    </tr>\n",
       "    <tr>\n",
       "      <th>3</th>\n",
       "      <td>4</td>\n",
       "      <td>CALLER_4</td>\n",
       "      <td>161</td>\n",
       "      <td>Unauthorized charges</td>\n",
       "      <td>151.0</td>\n",
       "      <td>pEnding</td>\n",
       "      <td>NaN</td>\n",
       "    </tr>\n",
       "    <tr>\n",
       "      <th>4</th>\n",
       "      <td>5</td>\n",
       "      <td>CALLER_5</td>\n",
       "      <td>148</td>\n",
       "      <td>Unprofessional behavior</td>\n",
       "      <td>NaN</td>\n",
       "      <td>new</td>\n",
       "      <td>NaN</td>\n",
       "    </tr>\n",
       "    <tr>\n",
       "      <th>...</th>\n",
       "      <td>...</td>\n",
       "      <td>...</td>\n",
       "      <td>...</td>\n",
       "      <td>...</td>\n",
       "      <td>...</td>\n",
       "      <td>...</td>\n",
       "      <td>...</td>\n",
       "    </tr>\n",
       "    <tr>\n",
       "      <th>595</th>\n",
       "      <td>596</td>\n",
       "      <td>CALLER_596</td>\n",
       "      <td>137</td>\n",
       "      <td>Unhelpful support</td>\n",
       "      <td>169.0</td>\n",
       "      <td>new</td>\n",
       "      <td>NaN</td>\n",
       "    </tr>\n",
       "    <tr>\n",
       "      <th>596</th>\n",
       "      <td>597</td>\n",
       "      <td>CALLER_597</td>\n",
       "      <td>159</td>\n",
       "      <td>Slow response time</td>\n",
       "      <td>NaN</td>\n",
       "      <td>resolved</td>\n",
       "      <td>NaN</td>\n",
       "    </tr>\n",
       "    <tr>\n",
       "      <th>597</th>\n",
       "      <td>598</td>\n",
       "      <td>CALLER_598</td>\n",
       "      <td>148</td>\n",
       "      <td>Shipping delay</td>\n",
       "      <td>150.0</td>\n",
       "      <td>pending</td>\n",
       "      <td>NaN</td>\n",
       "    </tr>\n",
       "    <tr>\n",
       "      <th>598</th>\n",
       "      <td>599</td>\n",
       "      <td>CALLER_599</td>\n",
       "      <td>161</td>\n",
       "      <td>Website not working</td>\n",
       "      <td>148.0</td>\n",
       "      <td>pEnding</td>\n",
       "      <td>NaN</td>\n",
       "    </tr>\n",
       "    <tr>\n",
       "      <th>599</th>\n",
       "      <td>600</td>\n",
       "      <td>CALLER_600</td>\n",
       "      <td>127</td>\n",
       "      <td>Wrong item received</td>\n",
       "      <td>149.0</td>\n",
       "      <td>resolved</td>\n",
       "      <td>NaN</td>\n",
       "    </tr>\n",
       "  </tbody>\n",
       "</table>\n",
       "<p>600 rows × 7 columns</p>\n",
       "</div>"
      ],
      "text/plain": [
       "      id    callerID  agentID                        complaintTopic  \\\n",
       "0      1    CALLER_1      163                   Billing discrepancy   \n",
       "1      2    CALLER_2      133  Difficulty reaching customer support   \n",
       "2      3    CALLER_3      153                   Wrong item received   \n",
       "3      4    CALLER_4      161                  Unauthorized charges   \n",
       "4      5    CALLER_5      148               Unprofessional behavior   \n",
       "..   ...         ...      ...                                   ...   \n",
       "595  596  CALLER_596      137                     Unhelpful support   \n",
       "596  597  CALLER_597      159                    Slow response time   \n",
       "597  598  CALLER_598      148                        Shipping delay   \n",
       "598  599  CALLER_599      161                   Website not working   \n",
       "599  600  CALLER_600      127                   Wrong item received   \n",
       "\n",
       "     assignedTo    status  resolutionDurationInHours  \n",
       "0         122.0    CLOSED                       33.0  \n",
       "1           NaN       new                        NaN  \n",
       "2         122.0  resolved                        NaN  \n",
       "3         151.0   pEnding                        NaN  \n",
       "4           NaN       new                        NaN  \n",
       "..          ...       ...                        ...  \n",
       "595       169.0       new                        NaN  \n",
       "596         NaN  resolved                        NaN  \n",
       "597       150.0   pending                        NaN  \n",
       "598       148.0   pEnding                        NaN  \n",
       "599       149.0  resolved                        NaN  \n",
       "\n",
       "[600 rows x 7 columns]"
      ]
     },
     "execution_count": 8,
     "metadata": {},
     "output_type": "execute_result"
    }
   ],
   "source": [
    "df2"
   ]
  },
  {
   "cell_type": "code",
   "execution_count": 9,
   "metadata": {},
   "outputs": [
    {
     "data": {
      "text/plain": [
       "status\n",
       "pending     107\n",
       "resolved    105\n",
       "pEnding     105\n",
       "closed       97\n",
       "new          96\n",
       "CLOSED       90\n",
       "Name: count, dtype: int64"
      ]
     },
     "execution_count": 9,
     "metadata": {},
     "output_type": "execute_result"
    }
   ],
   "source": [
    "df2['status'].value_counts()"
   ]
  },
  {
   "cell_type": "markdown",
   "metadata": {},
   "source": [
    "## Cleaning"
   ]
  },
  {
   "cell_type": "code",
   "execution_count": 10,
   "metadata": {},
   "outputs": [],
   "source": [
    "# Fill missing 'assignedTo' values with agent ID where missing\n",
    "df2['assignedTo'].fillna(df2['agentID'], inplace=True) \n",
    "\n"
   ]
  },
  {
   "cell_type": "code",
   "execution_count": 11,
   "metadata": {},
   "outputs": [],
   "source": [
    "# Convert 'assignedTo' to integer\n",
    "df2['assignedTo'] = df2['assignedTo'].astype(int)"
   ]
  },
  {
   "cell_type": "code",
   "execution_count": 12,
   "metadata": {},
   "outputs": [],
   "source": [
    "#clean 'status' column entries\n",
    "df2['status'].replace({'pEnding': 'pending', 'CLOSED': 'closed'}, inplace=True)"
   ]
  },
  {
   "cell_type": "code",
   "execution_count": 13,
   "metadata": {},
   "outputs": [],
   "source": [
    "# clean 'callID' column\n",
    "df['callID'].replace('ageentsGradeLevel', 1 , inplace=True)  "
   ]
  },
  {
   "cell_type": "code",
   "execution_count": 14,
   "metadata": {},
   "outputs": [
    {
     "name": "stderr",
     "output_type": "stream",
     "text": [
      "C:\\Users\\Rosemary\\AppData\\Local\\Temp\\ipykernel_22832\\1339681963.py:2: FutureWarning: Setting an item of incompatible dtype is deprecated and will raise in a future error of pandas. Value 'Not provided' has dtype incompatible with float64, please explicitly cast to a compatible dtype first.\n",
      "  df2['resolutionDurationInHours'].fillna('Not provided', inplace=True)\n"
     ]
    }
   ],
   "source": [
    "#fill missing 'resolutiondurationinhours' with not provided\n",
    "df2['resolutionDurationInHours'].fillna('Not provided', inplace=True)\n"
   ]
  },
  {
   "cell_type": "code",
   "execution_count": 15,
   "metadata": {},
   "outputs": [],
   "source": [
    "# clean 'inbound' column(change to a consistent format)\n",
    "df['callType'].replace('in-bound', 'Inbound' , inplace=True)  \n"
   ]
  },
  {
   "cell_type": "code",
   "execution_count": 16,
   "metadata": {},
   "outputs": [],
   "source": [
    "# rename all columns to the same format\n",
    "def clean_column_name(col_name):\n",
    "    return col_name.strip().lower().replace(' ', '_')\n",
    "\n",
    "df.rename(columns=clean_column_name, inplace=True)\n"
   ]
  },
  {
   "cell_type": "code",
   "execution_count": 17,
   "metadata": {},
   "outputs": [],
   "source": [
    "def clean_column_name(col_name):\n",
    "    return col_name.strip().lower().replace(' ', '_')\n",
    "\n",
    "df2.rename(columns=clean_column_name, inplace=True)"
   ]
  },
  {
   "cell_type": "code",
   "execution_count": 18,
   "metadata": {},
   "outputs": [
    {
     "name": "stdout",
     "output_type": "stream",
     "text": [
      "<class 'pandas.core.frame.DataFrame'>\n",
      "RangeIndex: 600 entries, 0 to 599\n",
      "Data columns (total 7 columns):\n",
      " #   Column                     Non-Null Count  Dtype \n",
      "---  ------                     --------------  ----- \n",
      " 0   id                         600 non-null    int64 \n",
      " 1   callerid                   600 non-null    object\n",
      " 2   agentid                    600 non-null    int64 \n",
      " 3   complainttopic             600 non-null    object\n",
      " 4   assignedto                 600 non-null    int32 \n",
      " 5   status                     600 non-null    object\n",
      " 6   resolutiondurationinhours  600 non-null    object\n",
      "dtypes: int32(1), int64(2), object(4)\n",
      "memory usage: 30.6+ KB\n"
     ]
    }
   ],
   "source": [
    "df2.info()\n"
   ]
  },
  {
   "cell_type": "code",
   "execution_count": 19,
   "metadata": {},
   "outputs": [
    {
     "data": {
      "text/plain": [
       "Index(['callid', 'calldurationinseconds', 'agentsgradelevel', 'calltype',\n",
       "       'callendedbyagent'],\n",
       "      dtype='object')"
      ]
     },
     "execution_count": 19,
     "metadata": {},
     "output_type": "execute_result"
    }
   ],
   "source": [
    "df.columns"
   ]
  },
  {
   "cell_type": "code",
   "execution_count": 20,
   "metadata": {},
   "outputs": [],
   "source": [
    "dict = {'callid':'call_id', \n",
    "        'calldurationinseconds':'call_duration_in_seconds', \n",
    "        'agentsgradelevel':'agents_grade_level', \n",
    "        'calltype': 'call_type',\n",
    "        'callendedbyagent':'call_ended_by_agent'}\n",
    "df.rename(columns=dict,\n",
    "          inplace=True)"
   ]
  },
  {
   "cell_type": "code",
   "execution_count": 21,
   "metadata": {},
   "outputs": [
    {
     "data": {
      "text/plain": [
       "Index(['id', 'callerid', 'agentid', 'complainttopic', 'assignedto', 'status',\n",
       "       'resolutiondurationinhours'],\n",
       "      dtype='object')"
      ]
     },
     "execution_count": 21,
     "metadata": {},
     "output_type": "execute_result"
    }
   ],
   "source": [
    "df2.columns"
   ]
  },
  {
   "cell_type": "code",
   "execution_count": 22,
   "metadata": {},
   "outputs": [],
   "source": [
    "dict = {'callerid':'caller_id', \n",
    "        'agentid':'agent_id', \n",
    "        'complainttopic': 'complaint_topic',\n",
    "        'assignedto':'assigned_to',\n",
    "        'resolutiondurationinhours':'resolution_duration_in_hours'}\n",
    "df2.rename(columns=dict,\n",
    "          inplace=True)"
   ]
  },
  {
   "cell_type": "code",
   "execution_count": 23,
   "metadata": {},
   "outputs": [
    {
     "data": {
      "text/html": [
       "<div>\n",
       "<style scoped>\n",
       "    .dataframe tbody tr th:only-of-type {\n",
       "        vertical-align: middle;\n",
       "    }\n",
       "\n",
       "    .dataframe tbody tr th {\n",
       "        vertical-align: top;\n",
       "    }\n",
       "\n",
       "    .dataframe thead th {\n",
       "        text-align: right;\n",
       "    }\n",
       "</style>\n",
       "<table border=\"1\" class=\"dataframe\">\n",
       "  <thead>\n",
       "    <tr style=\"text-align: right;\">\n",
       "      <th></th>\n",
       "      <th>id</th>\n",
       "      <th>caller_id</th>\n",
       "      <th>agent_id</th>\n",
       "      <th>complaint_topic</th>\n",
       "      <th>assigned_to</th>\n",
       "      <th>status</th>\n",
       "      <th>resolution_duration_in_hours</th>\n",
       "    </tr>\n",
       "  </thead>\n",
       "  <tbody>\n",
       "    <tr>\n",
       "      <th>0</th>\n",
       "      <td>1</td>\n",
       "      <td>CALLER_1</td>\n",
       "      <td>163</td>\n",
       "      <td>Billing discrepancy</td>\n",
       "      <td>122</td>\n",
       "      <td>closed</td>\n",
       "      <td>33.0</td>\n",
       "    </tr>\n",
       "    <tr>\n",
       "      <th>1</th>\n",
       "      <td>2</td>\n",
       "      <td>CALLER_2</td>\n",
       "      <td>133</td>\n",
       "      <td>Difficulty reaching customer support</td>\n",
       "      <td>133</td>\n",
       "      <td>new</td>\n",
       "      <td>Not provided</td>\n",
       "    </tr>\n",
       "    <tr>\n",
       "      <th>2</th>\n",
       "      <td>3</td>\n",
       "      <td>CALLER_3</td>\n",
       "      <td>153</td>\n",
       "      <td>Wrong item received</td>\n",
       "      <td>122</td>\n",
       "      <td>resolved</td>\n",
       "      <td>Not provided</td>\n",
       "    </tr>\n",
       "    <tr>\n",
       "      <th>3</th>\n",
       "      <td>4</td>\n",
       "      <td>CALLER_4</td>\n",
       "      <td>161</td>\n",
       "      <td>Unauthorized charges</td>\n",
       "      <td>151</td>\n",
       "      <td>pending</td>\n",
       "      <td>Not provided</td>\n",
       "    </tr>\n",
       "    <tr>\n",
       "      <th>4</th>\n",
       "      <td>5</td>\n",
       "      <td>CALLER_5</td>\n",
       "      <td>148</td>\n",
       "      <td>Unprofessional behavior</td>\n",
       "      <td>148</td>\n",
       "      <td>new</td>\n",
       "      <td>Not provided</td>\n",
       "    </tr>\n",
       "    <tr>\n",
       "      <th>...</th>\n",
       "      <td>...</td>\n",
       "      <td>...</td>\n",
       "      <td>...</td>\n",
       "      <td>...</td>\n",
       "      <td>...</td>\n",
       "      <td>...</td>\n",
       "      <td>...</td>\n",
       "    </tr>\n",
       "    <tr>\n",
       "      <th>595</th>\n",
       "      <td>596</td>\n",
       "      <td>CALLER_596</td>\n",
       "      <td>137</td>\n",
       "      <td>Unhelpful support</td>\n",
       "      <td>169</td>\n",
       "      <td>new</td>\n",
       "      <td>Not provided</td>\n",
       "    </tr>\n",
       "    <tr>\n",
       "      <th>596</th>\n",
       "      <td>597</td>\n",
       "      <td>CALLER_597</td>\n",
       "      <td>159</td>\n",
       "      <td>Slow response time</td>\n",
       "      <td>159</td>\n",
       "      <td>resolved</td>\n",
       "      <td>Not provided</td>\n",
       "    </tr>\n",
       "    <tr>\n",
       "      <th>597</th>\n",
       "      <td>598</td>\n",
       "      <td>CALLER_598</td>\n",
       "      <td>148</td>\n",
       "      <td>Shipping delay</td>\n",
       "      <td>150</td>\n",
       "      <td>pending</td>\n",
       "      <td>Not provided</td>\n",
       "    </tr>\n",
       "    <tr>\n",
       "      <th>598</th>\n",
       "      <td>599</td>\n",
       "      <td>CALLER_599</td>\n",
       "      <td>161</td>\n",
       "      <td>Website not working</td>\n",
       "      <td>148</td>\n",
       "      <td>pending</td>\n",
       "      <td>Not provided</td>\n",
       "    </tr>\n",
       "    <tr>\n",
       "      <th>599</th>\n",
       "      <td>600</td>\n",
       "      <td>CALLER_600</td>\n",
       "      <td>127</td>\n",
       "      <td>Wrong item received</td>\n",
       "      <td>149</td>\n",
       "      <td>resolved</td>\n",
       "      <td>Not provided</td>\n",
       "    </tr>\n",
       "  </tbody>\n",
       "</table>\n",
       "<p>600 rows × 7 columns</p>\n",
       "</div>"
      ],
      "text/plain": [
       "      id   caller_id  agent_id                       complaint_topic  \\\n",
       "0      1    CALLER_1       163                   Billing discrepancy   \n",
       "1      2    CALLER_2       133  Difficulty reaching customer support   \n",
       "2      3    CALLER_3       153                   Wrong item received   \n",
       "3      4    CALLER_4       161                  Unauthorized charges   \n",
       "4      5    CALLER_5       148               Unprofessional behavior   \n",
       "..   ...         ...       ...                                   ...   \n",
       "595  596  CALLER_596       137                     Unhelpful support   \n",
       "596  597  CALLER_597       159                    Slow response time   \n",
       "597  598  CALLER_598       148                        Shipping delay   \n",
       "598  599  CALLER_599       161                   Website not working   \n",
       "599  600  CALLER_600       127                   Wrong item received   \n",
       "\n",
       "     assigned_to    status resolution_duration_in_hours  \n",
       "0            122    closed                         33.0  \n",
       "1            133       new                 Not provided  \n",
       "2            122  resolved                 Not provided  \n",
       "3            151   pending                 Not provided  \n",
       "4            148       new                 Not provided  \n",
       "..           ...       ...                          ...  \n",
       "595          169       new                 Not provided  \n",
       "596          159  resolved                 Not provided  \n",
       "597          150   pending                 Not provided  \n",
       "598          148   pending                 Not provided  \n",
       "599          149  resolved                 Not provided  \n",
       "\n",
       "[600 rows x 7 columns]"
      ]
     },
     "execution_count": 23,
     "metadata": {},
     "output_type": "execute_result"
    }
   ],
   "source": [
    "df2"
   ]
  },
  {
   "cell_type": "code",
   "execution_count": 24,
   "metadata": {},
   "outputs": [],
   "source": [
    "df.to_csv('cleaned_call_details.csv', index=False)"
   ]
  },
  {
   "cell_type": "code",
   "execution_count": 25,
   "metadata": {},
   "outputs": [],
   "source": [
    "df2.to_csv('cleaned_call_log.csv', index=False)"
   ]
  },
  {
   "cell_type": "code",
   "execution_count": 26,
   "metadata": {},
   "outputs": [],
   "source": [
    "all_df = pd.concat([df, df2], axis=1)"
   ]
  },
  {
   "cell_type": "code",
   "execution_count": 28,
   "metadata": {},
   "outputs": [],
   "source": [
    "all_df.to_csv('cleaned_data_set.csv', index=False)"
   ]
  }
 ],
 "metadata": {
  "kernelspec": {
   "display_name": "Python 3",
   "language": "python",
   "name": "python3"
  },
  "language_info": {
   "codemirror_mode": {
    "name": "ipython",
    "version": 3
   },
   "file_extension": ".py",
   "mimetype": "text/x-python",
   "name": "python",
   "nbconvert_exporter": "python",
   "pygments_lexer": "ipython3",
   "version": "3.10.9"
  }
 },
 "nbformat": 4,
 "nbformat_minor": 2
}
